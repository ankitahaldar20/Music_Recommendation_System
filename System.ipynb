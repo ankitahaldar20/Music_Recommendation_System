{
 "cells": [
  {
   "cell_type": "code",
   "execution_count": 5,
   "metadata": {},
   "outputs": [
    {
     "name": "stdout",
     "output_type": "stream",
     "text": [
      "Requirement already satisfied: transformers in c:\\users\\dell\\anaconda3\\new folder\\anaconda\\lib\\site-packages (4.32.1)\n",
      "Requirement already satisfied: torch in c:\\users\\dell\\anaconda3\\new folder\\anaconda\\lib\\site-packages (2.4.1)\n",
      "Requirement already satisfied: scikit-learn in c:\\users\\dell\\anaconda3\\new folder\\anaconda\\lib\\site-packages (1.3.0)\n",
      "Requirement already satisfied: librosa in c:\\users\\dell\\anaconda3\\new folder\\anaconda\\lib\\site-packages (0.10.2.post1)\n",
      "Requirement already satisfied: spotipy in c:\\users\\dell\\anaconda3\\new folder\\anaconda\\lib\\site-packages (2.24.0)\n",
      "Requirement already satisfied: filelock in c:\\users\\dell\\anaconda3\\new folder\\anaconda\\lib\\site-packages (from transformers) (3.9.0)\n",
      "Requirement already satisfied: huggingface-hub<1.0,>=0.15.1 in c:\\users\\dell\\anaconda3\\new folder\\anaconda\\lib\\site-packages (from transformers) (0.15.1)\n",
      "Requirement already satisfied: numpy>=1.17 in c:\\users\\dell\\anaconda3\\new folder\\anaconda\\lib\\site-packages (from transformers) (1.24.3)\n",
      "Requirement already satisfied: packaging>=20.0 in c:\\users\\dell\\anaconda3\\new folder\\anaconda\\lib\\site-packages (from transformers) (23.1)\n",
      "Requirement already satisfied: pyyaml>=5.1 in c:\\users\\dell\\anaconda3\\new folder\\anaconda\\lib\\site-packages (from transformers) (6.0)\n",
      "Requirement already satisfied: regex!=2019.12.17 in c:\\users\\dell\\anaconda3\\new folder\\anaconda\\lib\\site-packages (from transformers) (2022.7.9)\n",
      "Requirement already satisfied: requests in c:\\users\\dell\\anaconda3\\new folder\\anaconda\\lib\\site-packages (from transformers) (2.31.0)\n",
      "Requirement already satisfied: tokenizers!=0.11.3,<0.14,>=0.11.1 in c:\\users\\dell\\anaconda3\\new folder\\anaconda\\lib\\site-packages (from transformers) (0.13.2)\n",
      "Requirement already satisfied: safetensors>=0.3.1 in c:\\users\\dell\\anaconda3\\new folder\\anaconda\\lib\\site-packages (from transformers) (0.3.2)\n",
      "Requirement already satisfied: tqdm>=4.27 in c:\\users\\dell\\anaconda3\\new folder\\anaconda\\lib\\site-packages (from transformers) (4.65.0)\n",
      "Requirement already satisfied: typing-extensions>=4.8.0 in c:\\users\\dell\\anaconda3\\new folder\\anaconda\\lib\\site-packages (from torch) (4.12.2)\n",
      "Requirement already satisfied: sympy in c:\\users\\dell\\anaconda3\\new folder\\anaconda\\lib\\site-packages (from torch) (1.11.1)\n",
      "Requirement already satisfied: networkx in c:\\users\\dell\\anaconda3\\new folder\\anaconda\\lib\\site-packages (from torch) (3.1)\n",
      "Requirement already satisfied: jinja2 in c:\\users\\dell\\anaconda3\\new folder\\anaconda\\lib\\site-packages (from torch) (3.1.2)\n",
      "Requirement already satisfied: fsspec in c:\\users\\dell\\anaconda3\\new folder\\anaconda\\lib\\site-packages (from torch) (2023.4.0)\n",
      "Requirement already satisfied: scipy>=1.5.0 in c:\\users\\dell\\anaconda3\\new folder\\anaconda\\lib\\site-packages (from scikit-learn) (1.11.1)\n",
      "Requirement already satisfied: joblib>=1.1.1 in c:\\users\\dell\\anaconda3\\new folder\\anaconda\\lib\\site-packages (from scikit-learn) (1.2.0)\n",
      "Requirement already satisfied: threadpoolctl>=2.0.0 in c:\\users\\dell\\anaconda3\\new folder\\anaconda\\lib\\site-packages (from scikit-learn) (2.2.0)\n",
      "Requirement already satisfied: audioread>=2.1.9 in c:\\users\\dell\\anaconda3\\new folder\\anaconda\\lib\\site-packages (from librosa) (3.0.1)\n",
      "Requirement already satisfied: decorator>=4.3.0 in c:\\users\\dell\\anaconda3\\new folder\\anaconda\\lib\\site-packages (from librosa) (5.1.1)\n",
      "Requirement already satisfied: numba>=0.51.0 in c:\\users\\dell\\anaconda3\\new folder\\anaconda\\lib\\site-packages (from librosa) (0.57.1)\n",
      "Requirement already satisfied: soundfile>=0.12.1 in c:\\users\\dell\\anaconda3\\new folder\\anaconda\\lib\\site-packages (from librosa) (0.12.1)\n",
      "Requirement already satisfied: pooch>=1.1 in c:\\users\\dell\\anaconda3\\new folder\\anaconda\\lib\\site-packages (from librosa) (1.8.2)\n",
      "Requirement already satisfied: soxr>=0.3.2 in c:\\users\\dell\\anaconda3\\new folder\\anaconda\\lib\\site-packages (from librosa) (0.5.0.post1)\n",
      "Requirement already satisfied: lazy-loader>=0.1 in c:\\users\\dell\\anaconda3\\new folder\\anaconda\\lib\\site-packages (from librosa) (0.2)\n",
      "Requirement already satisfied: msgpack>=1.0 in c:\\users\\dell\\anaconda3\\new folder\\anaconda\\lib\\site-packages (from librosa) (1.0.3)\n",
      "Requirement already satisfied: redis>=3.5.3 in c:\\users\\dell\\anaconda3\\new folder\\anaconda\\lib\\site-packages (from spotipy) (5.1.1)\n",
      "Requirement already satisfied: urllib3>=1.26.0 in c:\\users\\dell\\anaconda3\\new folder\\anaconda\\lib\\site-packages (from spotipy) (1.26.16)\n",
      "Requirement already satisfied: llvmlite<0.41,>=0.40.0dev0 in c:\\users\\dell\\anaconda3\\new folder\\anaconda\\lib\\site-packages (from numba>=0.51.0->librosa) (0.40.0)\n",
      "Requirement already satisfied: platformdirs>=2.5.0 in c:\\users\\dell\\anaconda3\\new folder\\anaconda\\lib\\site-packages (from pooch>=1.1->librosa) (3.10.0)\n",
      "Requirement already satisfied: charset-normalizer<4,>=2 in c:\\users\\dell\\anaconda3\\new folder\\anaconda\\lib\\site-packages (from requests->transformers) (2.0.4)\n",
      "Requirement already satisfied: idna<4,>=2.5 in c:\\users\\dell\\anaconda3\\new folder\\anaconda\\lib\\site-packages (from requests->transformers) (3.4)\n",
      "Requirement already satisfied: certifi>=2017.4.17 in c:\\users\\dell\\anaconda3\\new folder\\anaconda\\lib\\site-packages (from requests->transformers) (2024.7.4)\n",
      "Requirement already satisfied: cffi>=1.0 in c:\\users\\dell\\anaconda3\\new folder\\anaconda\\lib\\site-packages (from soundfile>=0.12.1->librosa) (1.15.1)\n",
      "Requirement already satisfied: colorama in c:\\users\\dell\\anaconda3\\new folder\\anaconda\\lib\\site-packages (from tqdm>=4.27->transformers) (0.4.6)\n",
      "Requirement already satisfied: MarkupSafe>=2.0 in c:\\users\\dell\\anaconda3\\new folder\\anaconda\\lib\\site-packages (from jinja2->torch) (2.1.1)\n",
      "Requirement already satisfied: mpmath>=0.19 in c:\\users\\dell\\anaconda3\\new folder\\anaconda\\lib\\site-packages (from sympy->torch) (1.3.0)\n",
      "Requirement already satisfied: pycparser in c:\\users\\dell\\anaconda3\\new folder\\anaconda\\lib\\site-packages (from cffi>=1.0->soundfile>=0.12.1->librosa) (2.21)\n",
      "Note: you may need to restart the kernel to use updated packages.\n"
     ]
    }
   ],
   "source": [
    "pip install transformers torch scikit-learn librosa spotipy"
   ]
  },
  {
   "cell_type": "code",
   "execution_count": 6,
   "metadata": {},
   "outputs": [
    {
     "name": "stdout",
     "output_type": "stream",
     "text": [
      "Requirement already satisfied: spotipy in c:\\users\\dell\\anaconda3\\new folder\\anaconda\\lib\\site-packages (2.24.0)\n",
      "Requirement already satisfied: redis>=3.5.3 in c:\\users\\dell\\anaconda3\\new folder\\anaconda\\lib\\site-packages (from spotipy) (5.1.1)\n",
      "Requirement already satisfied: requests>=2.25.0 in c:\\users\\dell\\anaconda3\\new folder\\anaconda\\lib\\site-packages (from spotipy) (2.31.0)\n",
      "Requirement already satisfied: urllib3>=1.26.0 in c:\\users\\dell\\anaconda3\\new folder\\anaconda\\lib\\site-packages (from spotipy) (1.26.16)\n",
      "Requirement already satisfied: charset-normalizer<4,>=2 in c:\\users\\dell\\anaconda3\\new folder\\anaconda\\lib\\site-packages (from requests>=2.25.0->spotipy) (2.0.4)\n",
      "Requirement already satisfied: idna<4,>=2.5 in c:\\users\\dell\\anaconda3\\new folder\\anaconda\\lib\\site-packages (from requests>=2.25.0->spotipy) (3.4)\n",
      "Requirement already satisfied: certifi>=2017.4.17 in c:\\users\\dell\\anaconda3\\new folder\\anaconda\\lib\\site-packages (from requests>=2.25.0->spotipy) (2024.7.4)\n",
      "Note: you may need to restart the kernel to use updated packages.\n"
     ]
    }
   ],
   "source": [
    "pip install spotipy"
   ]
  },
  {
   "cell_type": "code",
   "execution_count": 7,
   "metadata": {},
   "outputs": [
    {
     "name": "stdout",
     "output_type": "stream",
     "text": [
      "Requirement already satisfied: transformers in c:\\users\\dell\\anaconda3\\new folder\\anaconda\\lib\\site-packages (4.32.1)\n",
      "Requirement already satisfied: spotipy in c:\\users\\dell\\anaconda3\\new folder\\anaconda\\lib\\site-packages (2.24.0)\n",
      "Requirement already satisfied: filelock in c:\\users\\dell\\anaconda3\\new folder\\anaconda\\lib\\site-packages (from transformers) (3.9.0)\n",
      "Requirement already satisfied: huggingface-hub<1.0,>=0.15.1 in c:\\users\\dell\\anaconda3\\new folder\\anaconda\\lib\\site-packages (from transformers) (0.15.1)\n",
      "Requirement already satisfied: numpy>=1.17 in c:\\users\\dell\\anaconda3\\new folder\\anaconda\\lib\\site-packages (from transformers) (1.24.3)\n",
      "Requirement already satisfied: packaging>=20.0 in c:\\users\\dell\\anaconda3\\new folder\\anaconda\\lib\\site-packages (from transformers) (23.1)\n",
      "Requirement already satisfied: pyyaml>=5.1 in c:\\users\\dell\\anaconda3\\new folder\\anaconda\\lib\\site-packages (from transformers) (6.0)\n",
      "Requirement already satisfied: regex!=2019.12.17 in c:\\users\\dell\\anaconda3\\new folder\\anaconda\\lib\\site-packages (from transformers) (2022.7.9)\n",
      "Requirement already satisfied: requests in c:\\users\\dell\\anaconda3\\new folder\\anaconda\\lib\\site-packages (from transformers) (2.31.0)\n",
      "Requirement already satisfied: tokenizers!=0.11.3,<0.14,>=0.11.1 in c:\\users\\dell\\anaconda3\\new folder\\anaconda\\lib\\site-packages (from transformers) (0.13.2)\n",
      "Requirement already satisfied: safetensors>=0.3.1 in c:\\users\\dell\\anaconda3\\new folder\\anaconda\\lib\\site-packages (from transformers) (0.3.2)\n",
      "Requirement already satisfied: tqdm>=4.27 in c:\\users\\dell\\anaconda3\\new folder\\anaconda\\lib\\site-packages (from transformers) (4.65.0)\n",
      "Requirement already satisfied: redis>=3.5.3 in c:\\users\\dell\\anaconda3\\new folder\\anaconda\\lib\\site-packages (from spotipy) (5.1.1)\n",
      "Requirement already satisfied: urllib3>=1.26.0 in c:\\users\\dell\\anaconda3\\new folder\\anaconda\\lib\\site-packages (from spotipy) (1.26.16)\n",
      "Requirement already satisfied: fsspec in c:\\users\\dell\\anaconda3\\new folder\\anaconda\\lib\\site-packages (from huggingface-hub<1.0,>=0.15.1->transformers) (2023.4.0)\n",
      "Requirement already satisfied: typing-extensions>=3.7.4.3 in c:\\users\\dell\\anaconda3\\new folder\\anaconda\\lib\\site-packages (from huggingface-hub<1.0,>=0.15.1->transformers) (4.12.2)\n",
      "Requirement already satisfied: charset-normalizer<4,>=2 in c:\\users\\dell\\anaconda3\\new folder\\anaconda\\lib\\site-packages (from requests->transformers) (2.0.4)\n",
      "Requirement already satisfied: idna<4,>=2.5 in c:\\users\\dell\\anaconda3\\new folder\\anaconda\\lib\\site-packages (from requests->transformers) (3.4)\n",
      "Requirement already satisfied: certifi>=2017.4.17 in c:\\users\\dell\\anaconda3\\new folder\\anaconda\\lib\\site-packages (from requests->transformers) (2024.7.4)\n",
      "Requirement already satisfied: colorama in c:\\users\\dell\\anaconda3\\new folder\\anaconda\\lib\\site-packages (from tqdm>=4.27->transformers) (0.4.6)\n",
      "Note: you may need to restart the kernel to use updated packages.\n"
     ]
    }
   ],
   "source": [
    "pip install transformers spotipy"
   ]
  },
  {
   "cell_type": "code",
   "execution_count": 8,
   "metadata": {},
   "outputs": [
    {
     "name": "stdout",
     "output_type": "stream",
     "text": [
      "Requirement already satisfied: textblob in c:\\users\\dell\\anaconda3\\new folder\\anaconda\\lib\\site-packages (0.18.0.post0)\n",
      "Requirement already satisfied: nltk>=3.8 in c:\\users\\dell\\anaconda3\\new folder\\anaconda\\lib\\site-packages (from textblob) (3.8.1)\n",
      "Requirement already satisfied: click in c:\\users\\dell\\anaconda3\\new folder\\anaconda\\lib\\site-packages (from nltk>=3.8->textblob) (8.0.4)\n",
      "Requirement already satisfied: joblib in c:\\users\\dell\\anaconda3\\new folder\\anaconda\\lib\\site-packages (from nltk>=3.8->textblob) (1.2.0)\n",
      "Requirement already satisfied: regex>=2021.8.3 in c:\\users\\dell\\anaconda3\\new folder\\anaconda\\lib\\site-packages (from nltk>=3.8->textblob) (2022.7.9)\n",
      "Requirement already satisfied: tqdm in c:\\users\\dell\\anaconda3\\new folder\\anaconda\\lib\\site-packages (from nltk>=3.8->textblob) (4.65.0)\n",
      "Requirement already satisfied: colorama in c:\\users\\dell\\anaconda3\\new folder\\anaconda\\lib\\site-packages (from click->nltk>=3.8->textblob) (0.4.6)\n",
      "Note: you may need to restart the kernel to use updated packages.\n"
     ]
    }
   ],
   "source": [
    "pip install textblob"
   ]
  },
  {
   "cell_type": "code",
   "execution_count": 9,
   "metadata": {},
   "outputs": [
    {
     "name": "stdout",
     "output_type": "stream",
     "text": [
      "Requirement already satisfied: langdetect in c:\\users\\dell\\anaconda3\\new folder\\anaconda\\lib\\site-packages (1.0.9)\n",
      "Requirement already satisfied: six in c:\\users\\dell\\anaconda3\\new folder\\anaconda\\lib\\site-packages (from langdetect) (1.16.0)\n",
      "Note: you may need to restart the kernel to use updated packages.\n"
     ]
    }
   ],
   "source": [
    "pip install langdetect"
   ]
  },
  {
   "cell_type": "code",
   "execution_count": 10,
   "metadata": {},
   "outputs": [
    {
     "name": "stdout",
     "output_type": "stream",
     "text": [
      "Requirement already satisfied: langid in c:\\users\\dell\\anaconda3\\new folder\\anaconda\\lib\\site-packages (1.1.6)\n",
      "Requirement already satisfied: numpy in c:\\users\\dell\\anaconda3\\new folder\\anaconda\\lib\\site-packages (from langid) (1.24.3)\n",
      "Note: you may need to restart the kernel to use updated packages.\n"
     ]
    }
   ],
   "source": [
    "pip install langid"
   ]
  },
  {
   "cell_type": "code",
   "execution_count": null,
   "metadata": {},
   "outputs": [],
   "source": [
    "import tkinter as tk\n",
    "from tkinter import messagebox, scrolledtext\n",
    "from tkinter import ttk\n",
    "from transformers import pipeline\n",
    "import spotipy\n",
    "from spotipy.oauth2 import SpotifyClientCredentials\n",
    "import webbrowser"
   ]
  },
  {
   "cell_type": "code",
   "execution_count": null,
   "metadata": {},
   "outputs": [],
   "source": [
    "# Step 1: Set up Spotify API credentials\n",
    "SPOTIPY_CLIENT_ID = 'your_spotify_client_id'\n",
    "SPOTIPY_CLIENT_SECRET = 'your_spotify_client_secret'\n",
    "\n",
    "auth_manager = SpotifyClientCredentials(client_id=SPOTIPY_CLIENT_ID, client_secret=SPOTIPY_CLIENT_SECRET)\n",
    "sp = spotipy.Spotify(auth_manager=auth_manager)"
   ]
  },
  {
   "cell_type": "code",
   "execution_count": null,
   "metadata": {},
   "outputs": [],
   "source": [
    "# Step 2: Define emotion detection function\n",
    "def detect_emotion(user_input):\n",
    "    emotion_classifier = pipeline('sentiment-analysis', model='j-hartmann/emotion-english-distilroberta-base')\n",
    "    result = emotion_classifier(user_input)\n",
    "    return result[0]['label'], result[0]['score']"
   ]
  },
  {
   "cell_type": "code",
   "execution_count": null,
   "metadata": {},
   "outputs": [],
   "source": [
    "# Step 3: Define music recommendation logic\n",
    "emotion_music_dataset = {\n",
    "    \"joy\": {\n",
    "        \"en\": [\n",
    "            \"Happy by Pharrell Williams\", \n",
    "            \"Good as Hell by Lizzo\",\n",
    "            \"Shake It Off by Taylor Swift\",\n",
    "            \"Can't Stop the Feeling! by Justin Timberlake\",\n",
    "            \"Uptown Funk by Mark Ronson ft. Bruno Mars\",\n",
    "            \"Best Day of My Life by American Authors\",\n",
    "            \"I'm So Excited by The Pointer Sisters\",\n",
    "            \"Walking on Sunshine by Katrina and the Waves\"\n",
    "        ],\n",
    "        \"hi\": [\n",
    "            \"जश्न-ए-बरात (Jashn-e-Barat) by Vishal Dadlani\", \n",
    "            \"दिल धड़कने दो (Dil Dhadakne Do) by Priyanka Chopra & Farhan Akhtar\",\n",
    "            \"तेरे जैसे यार (Tere Jaise Yaar) by A.R. Rahman\",\n",
    "            \"सुनो सुनो (Suno Suno) by Vishal-Shekhar\",\n",
    "            \"मन की माया (Man Ki Maya) by Shreya Ghoshal\",\n",
    "            \"खुश रहो (Khush Raho) by A.R. Rahman\",\n",
    "            \"शुभ मंगल सावधान (Shubh Mangal Saavdhan) by Arijit Singh\",\n",
    "            \"यादें (Yaadein) by Atif Aslam\"\n",
    "        ]\n",
    "    },\n",
    "    \"sadness\": {\n",
    "        \"en\": [\n",
    "            \"Someone Like You by Adele\", \n",
    "            \"Fix You by Coldplay\",\n",
    "            \"Hurt by Christina Aguilera\",\n",
    "            \"The Night We Met by Lord Huron\",\n",
    "            \"Tears Dry On Their Own by Amy Winehouse\",\n",
    "            \"Back to December by Taylor Swift\",\n",
    "            \"Let Her Go by Passenger\",\n",
    "            \"Someone You Loved by Lewis Capaldi\"\n",
    "        ],\n",
    "        \"hi\": [\n",
    "            \"तुम ही हो (Tum Hi Ho) by Arijit Singh\", \n",
    "            \"चन्ना मेरेया (Channa Mereya) by Arijit Singh\",\n",
    "            \"तेरे बिन (Tere Bin) by Rabbi Shergill\",\n",
    "            \"आशिकी 2 (Aashiqui 2) by Arijit Singh\",\n",
    "            \"सुन रहे हो न (Sun Rahe Ho Na) by Sonu Nigam\",\n",
    "            \"तुमसे ही (Tumse Hi) by Mohit Chauhan\",\n",
    "            \"इश्क़ सारा (Ishq Sara) by Atif Aslam\",\n",
    "            \"रास्ता (Raasta) by Rahat Fateh Ali Khan\"\n",
    "        ]\n",
    "    },\n",
    "    \"anger\": {\n",
    "        \"en\": [\n",
    "            \"Break Stuff by Limp Bizkit\", \n",
    "            \"Killing In The Name by Rage Against The Machine\",\n",
    "            \"Burn It Down by Linkin Park\",\n",
    "            \"Fighter by Christina Aguilera\",\n",
    "            \"Rolling in the Deep by Adele\",\n",
    "            \"Smells Like Teen Spirit by Nirvana\",\n",
    "            \"Before I Forget by Slipknot\",\n",
    "            \"Welcome to the Jungle by Guns N' Roses\"\n",
    "        ],\n",
    "        \"hi\": [\n",
    "            \"तू बिन बताये (Tu Bin Bataye) by Karan Singh Arora\", \n",
    "            \"ख़ामोशी (Khamoshi) by Gajendra Verma\",\n",
    "            \"दर्द-ए-डिस्को (Dard-E-Disco) by Vishal-Shekhar\",\n",
    "            \"संसार (Sansar) by Abhijeet Sawant\",\n",
    "            \"झगड़ा (Jhagda) by Ritesh Deshmukh\",\n",
    "            \"क्या करूँ (Kya Karoon) by Arijit Singh\",\n",
    "            \"तुम ना आओगे (Tum Na Aaoge) by Neha Kakkar\",\n",
    "            \"ज़िंदगी ना मिलेगी दोबारा (Zindagi Na Milegi Dobara) by Shankar-Ehsaan-Loy\"\n",
    "        ]\n",
    "    },\n",
    "    \"calm\": {\n",
    "        \"en\": [\n",
    "            \"Weightless by Marconi Union\", \n",
    "            \"Sunset Lover by Petit Biscuit\",\n",
    "            \"River Flows In You by Yiruma\",\n",
    "            \"Breathe Me by Sia\",\n",
    "            \"Someone Like You by Adele\",\n",
    "            \"In My Mind by Dynoro\",\n",
    "            \"Clair de Lune by Claude Debussy\",\n",
    "            \"Holocene by Bon Iver\"\n",
    "        ],\n",
    "        \"hi\": [\n",
    "            \"सुनो (Suno) by Pritam\", \n",
    "            \"आसमान (Aasman) by Pritam\",\n",
    "            \"नज़रे (Nazare) by Mohit Chauhan\",\n",
    "            \"सपने (Sapne) by Arijit Singh\",\n",
    "            \"चुपके से (Chupke Se) by Sukhwinder Singh\",\n",
    "            \"तुम हो (Tum Ho) by Mohit Chauhan\",\n",
    "            \"दिल का दार (Dil Ka Daar) by Arijit Singh\",\n",
    "            \"आफरीन (Aafreen) by Rahat Fateh Ali Khan\"\n",
    "        ]\n",
    "    }\n",
    "}\n",
    "\n",
    "def search_spotify_track(track_name):\n",
    "    results = sp.search(q=track_name, type='track', limit=1)\n",
    "    if results['tracks']['items']:\n",
    "        track = results['tracks']['items'][0]\n",
    "        track_url = track['external_urls']['spotify']\n",
    "        return track['name'], track['artists'][0]['name'], track_url\n",
    "    else:\n",
    "        return None\n",
    "\n",
    "def recommend_music_on_spotify(emotion, language):\n",
    "    if emotion in emotion_music_dataset:\n",
    "        songs = emotion_music_dataset[emotion][language]\n",
    "        recommendations = []\n",
    "        for song in songs:\n",
    "            result = search_spotify_track(song)\n",
    "            if result:\n",
    "                song_name, artist_name, url = result\n",
    "                recommendations.append((f\"{song_name} by {artist_name}\", url))\n",
    "        return recommendations\n",
    "    else:\n",
    "        return [(\"No recommendations available for this emotion.\", None)]"
   ]
  },
  {
   "cell_type": "code",
   "execution_count": null,
   "metadata": {},
   "outputs": [],
   "source": [
    "# Step 4: Create the GUI with language selection and emotion buttons\n",
    "def open_link(url):\n",
    "    webbrowser.open(url)  # Open the Spotify link in the default web browser\n",
    "\n",
    "def get_recommendations():\n",
    "    selected_emotion = emotion_var.get()  # Get selected emotion from radio buttons\n",
    "    selected_language = language_choice.get()  # Get selected language from dropdown\n",
    "    recommendations = recommend_music_on_spotify(selected_emotion, selected_language)\n",
    "\n",
    "    result_text.delete(\"1.0\", tk.END)  # Clear previous results\n",
    "    result_text.insert(tk.END, f\"Emotion: {selected_emotion}\\n\\n\")\n",
    "    result_text.insert(tk.END, \"Recommended songs for your mood:\\n\")\n",
    "    \n",
    "    for song, url in recommendations:\n",
    "        if url:\n",
    "            result_text.insert(tk.END, f\"- {song} - [Listen on Spotify]({url})\\n\")\n",
    "        else:\n",
    "            result_text.insert(tk.END, f\"- {song}\\n\")\n",
    "    \n",
    "    result_text.tag_configure(\"link\", foreground=\"blue\", underline=True)"
   ]
  },
  {
   "cell_type": "code",
   "execution_count": null,
   "metadata": {},
   "outputs": [],
   "source": [
    " # Create clickable links\n",
    "for i, (_, url) in enumerate(recommendations):\n",
    "        if url:\n",
    "            result_text.tag_add(\"link\", f\"{i + 5}.0\", f\"{i + 5}.19\")  # Adjust according to song name length\n",
    "            result_text.bind(\"<Button-1>\", lambda e, url=url: open_link(url))"
   ]
  },
  {
   "cell_type": "code",
   "execution_count": null,
   "metadata": {},
   "outputs": [],
   "source": [
    "# Create the main window\n",
    "window = tk.Tk()\n",
    "window.title(\"Music Recommendation System\")"
   ]
  },
  {
   "cell_type": "code",
   "execution_count": null,
   "metadata": {},
   "outputs": [],
   "source": [
    "# Language Selection Dropdown\n",
    "language_choice = tk.StringVar()\n",
    "language_label = tk.Label(window, text=\"Select Language:\")\n",
    "language_label.pack(pady=5)\n",
    "\n",
    "language_dropdown = ttk.Combobox(window, textvariable=language_choice)\n",
    "language_dropdown['values'] = ('en', 'hi')  # English and Hindi\n",
    "language_dropdown.current(0)  # Set default value to English\n",
    "language_dropdown.pack(pady=5)"
   ]
  },
  {
   "cell_type": "code",
   "execution_count": null,
   "metadata": {},
   "outputs": [],
   "source": [
    "# Emotion Selection with Radio Buttons\n",
    "emotion_var = tk.StringVar(value=\"joy\")  # Default emotion\n",
    "emotion_frame = tk.LabelFrame(window, text=\"Select Your Emotion\", padx=10, pady=10)\n",
    "emotion_frame.pack(pady=10)\n",
    "\n",
    "emotions = [\"joy\", \"sadness\", \"anger\", \"calm\"]\n",
    "for emotion in emotions:\n",
    "    rb = tk.Radiobutton(emotion_frame, text=emotion.capitalize(), variable=emotion_var, value=emotion)\n",
    "    rb.pack(anchor=tk.W)"
   ]
  },
  {
   "cell_type": "code",
   "execution_count": null,
   "metadata": {},
   "outputs": [],
   "source": [
    "# Recommend Button\n",
    "recommend_button = tk.Button(window, text=\"Get Recommendations\", command=get_recommendations)\n",
    "recommend_button.pack(pady=10)"
   ]
  },
  {
   "cell_type": "code",
   "execution_count": null,
   "metadata": {},
   "outputs": [],
   "source": [
    "# Results section\n",
    "result_text = scrolledtext.ScrolledText(window, width=50, height=15)\n",
    "result_text.pack(pady=10)"
   ]
  },
  {
   "cell_type": "code",
   "execution_count": null,
   "metadata": {},
   "outputs": [],
   "source": [
    "# Run the GUI main loop\n",
    "window.mainloop()"
   ]
  }
 ],
 "metadata": {
  "kernelspec": {
   "display_name": "Python 3",
   "language": "python",
   "name": "python3"
  },
  "language_info": {
   "codemirror_mode": {
    "name": "ipython",
    "version": 3
   },
   "file_extension": ".py",
   "mimetype": "text/x-python",
   "name": "python",
   "nbconvert_exporter": "python",
   "pygments_lexer": "ipython3",
   "version": "3.11.5"
  }
 },
 "nbformat": 4,
 "nbformat_minor": 2
}
